{
  "nbformat": 4,
  "nbformat_minor": 0,
  "metadata": {
    "colab": {
      "provenance": [],
      "toc_visible": true,
      "include_colab_link": true
    },
    "kernelspec": {
      "name": "python3",
      "display_name": "Python 3"
    },
    "language_info": {
      "name": "python"
    }
  },
  "cells": [
    {
      "cell_type": "markdown",
      "metadata": {
        "id": "view-in-github",
        "colab_type": "text"
      },
      "source": [
        "<a href=\"https://colab.research.google.com/github/Daffanugraha/Fungsio/blob/main/T2_Fungsional_%5B304%2C335%5D.ipynb\" target=\"_parent\"><img src=\"https://colab.research.google.com/assets/colab-badge.svg\" alt=\"Open In Colab\"/></a>"
      ]
    },
    {
      "cell_type": "markdown",
      "source": [
        "# Tipe Data Sequence"
      ],
      "metadata": {
        "id": "jJo2ZDDDd8bZ"
      }
    },
    {
      "cell_type": "markdown",
      "source": [
        "\n",
        "Sequence merupakan salah satu tipe data yang ada di dalam bahasa pemrograman Python. Tipe data sequence pada dasarnya adalah kumpulan data yang diurutkan atau disusun secara tertentu.\n",
        "\n",
        "Beberapa tipe data sequence yang ada pada Python antara lain:"
      ],
      "metadata": {
        "id": "YzeL4b8qdBf8"
      }
    },
    {
      "cell_type": "markdown",
      "source": [
        "# List\n",
        "\n",
        "List adalah tipe data sequence yang paling umum digunakan pada Python. List adalah kumpulan data yang diurutkan dan bisa berisi tipe data apa saja seperti angka, string, boolean, dan sebagainya. List ditandai dengan kurung siku ([ ]) dan setiap elemen di dalamnya dipisahkan oleh tanda koma (,).\n",
        "\n",
        "\n",
        "> **Bagaimana cara membuat list?**\n",
        "\n",
        "\n"
      ],
      "metadata": {
        "id": "k_RIYvWKj5Jl"
      }
    },
    {
      "cell_type": "code",
      "source": [
        "#penulisan tip data list\n",
        "data = [nilai]"
      ],
      "metadata": {
        "id": "ve5dfLAFhbX5"
      },
      "execution_count": null,
      "outputs": []
    },
    {
      "cell_type": "markdown",
      "source": [
        "Keterangan :\n",
        "> Data adalah nama variabel yang didalamnya menyimpan nilai dengan tipe data list.\n",
        "\n",
        "> [ nilai ] adalah nilai/item/anggota yang bisa berupa number atau string.\n",
        "\n",
        "Berikut ini contohnya :\n",
        "\n",
        "\n",
        "\n"
      ],
      "metadata": {
        "id": "KWsO5fw3heHU"
      }
    },
    {
      "cell_type": "code",
      "source": [
        "# list kosong\n",
        "list_kosong = []\n",
        "\n",
        "# list yang berisi kumpulan string\n",
        "list_buah = ['Pisang', 'Nanas', 'Melon', 'Durian']\n",
        "\n",
        "# list yang berisi kumpulan integer\n",
        "list_nilai = [80, 70, 90, 60]\n",
        "\n",
        "# list campuran berbagai tipe data\n",
        "list_jawaban = [150, 33.33, 'Presiden Sukarno', False]\n",
        "\n",
        "print('list_kosong:', list_kosong)\n",
        "print('list_buah:', list_buah)\n",
        "print('list_nilai:', list_nilai)\n",
        "print('list_jawaban:', list_jawaban)"
      ],
      "metadata": {
        "colab": {
          "base_uri": "https://localhost:8080/"
        },
        "id": "2INdfP-NkmOe",
        "outputId": "401cbe1a-9d95-4118-e0bc-441f4dc17ae9"
      },
      "execution_count": null,
      "outputs": [
        {
          "output_type": "stream",
          "name": "stdout",
          "text": [
            "list_kosong: []\n",
            "list_buah: ['Pisang', 'Nanas', 'Melon', 'Durian']\n",
            "list_nilai: [80, 70, 90, 60]\n",
            "list_jawaban: [150, 33.33, 'Presiden Sukarno', False]\n"
          ]
        }
      ]
    },
    {
      "cell_type": "markdown",
      "source": [
        "\n",
        "\n",
        "> **Cara mengakses nilai list**\n",
        "\n",
        "Selain itu, kita bisa mengakses list menggunkan indeks contohnya nama_list[indeks-ke]. Dimana indeks dari list dimulai dari 0. Misalnya ada sekumpulan data list dengan jumlah 10, maka indeks list dimalai dari 0 sampi 9.\n",
        "\n",
        "Berikut ini contohnya :"
      ],
      "metadata": {
        "id": "vYXg_PpSihmx"
      }
    },
    {
      "cell_type": "code",
      "source": [
        "data = [1,3,5,7, \"aku\", \"saya\"]\n",
        "#tampilkan indeks ke 4\n",
        "print (data[4])"
      ],
      "metadata": {
        "colab": {
          "base_uri": "https://localhost:8080/"
        },
        "id": "xz9gN_k1jIcI",
        "outputId": "2998e971-5183-4998-e2c7-a1a8cac7262a"
      },
      "execution_count": null,
      "outputs": [
        {
          "output_type": "stream",
          "name": "stdout",
          "text": [
            "aku\n"
          ]
        }
      ]
    },
    {
      "cell_type": "markdown",
      "source": [
        "\n",
        "\n",
        "> **Slicing List**\n",
        "\n",
        "Slicing list adalah teknik untuk memotong nilai pada list. Maksudnya adalah: kita mengambil beberapa nilai dari anggota list dengan mendefinisikan indeks kiri dan indeks kanan.\n",
        "\n",
        "Perhatikan contoh kode program berikut:\n",
        "\n"
      ],
      "metadata": {
        "id": "0RCw-XZgkiO4"
      }
    },
    {
      "cell_type": "code",
      "source": [
        "list_buah = ['Pisang', 'Nanas', 'Melon', 'Durian']\n",
        "\n",
        "print(list_buah[0:1])\n",
        "print(list_buah[0:2])\n",
        "print(list_buah[1:3])\n",
        "print(list_buah[0:-1])\n",
        "print(list_buah[-1:-3])\n",
        "print(list_buah[-1:3])\n",
        "print(list_buah[-3:-1])"
      ],
      "metadata": {
        "colab": {
          "base_uri": "https://localhost:8080/"
        },
        "id": "RSSjSZy2s8WI",
        "outputId": "b8709f58-f0bd-4085-df6d-54f9ea302981"
      },
      "execution_count": null,
      "outputs": [
        {
          "output_type": "stream",
          "name": "stdout",
          "text": [
            "['Pisang']\n",
            "['Pisang', 'Nanas']\n",
            "['Nanas', 'Melon']\n",
            "['Pisang', 'Nanas', 'Melon']\n",
            "[]\n",
            "[]\n",
            "['Nanas', 'Melon']\n"
          ]
        }
      ]
    },
    {
      "cell_type": "markdown",
      "source": [
        "**Keterangan**\n",
        "\n",
        "*   Parameter indeks sebelah kiri mendefinisikan awal indeks dari nilai yang akan ditampilkan.\n",
        "*   Parameter indeks sebelah kanan mendefinisikan batas yang harus ditampilkan.\n",
        "\n",
        "\n",
        "> **Slicing tanpa batas**\n",
        "\n",
        "Kita juga bisa melakukan slicing data tanpa mendefinisikan indeks batas. Coba perhatikan contoh berikut:\n",
        "\n"
      ],
      "metadata": {
        "id": "4WLf8GIktAHo"
      }
    },
    {
      "cell_type": "code",
      "source": [
        "list_buah = ['Pisang', 'Nanas', 'Melon', 'Durian']\n",
        "\n",
        "print(list_buah[0:])\n",
        "print(list_buah[1:])\n",
        "print(list_buah[2:])\n",
        "print(list_buah[3:])\n",
        "print(list_buah[:0])\n",
        "print(list_buah[:1])\n",
        "print(list_buah[:2])\n",
        "print(list_buah[:3])\n",
        "print(list_buah[:4])"
      ],
      "metadata": {
        "colab": {
          "base_uri": "https://localhost:8080/"
        },
        "id": "lEnaD6hDtVxb",
        "outputId": "bfd2f1d4-60c9-4fac-e065-d1a340474e15"
      },
      "execution_count": null,
      "outputs": [
        {
          "output_type": "stream",
          "name": "stdout",
          "text": [
            "['Pisang', 'Nanas', 'Melon', 'Durian']\n",
            "['Nanas', 'Melon', 'Durian']\n",
            "['Melon', 'Durian']\n",
            "['Durian']\n",
            "[]\n",
            "['Pisang']\n",
            "['Pisang', 'Nanas']\n",
            "['Pisang', 'Nanas', 'Melon']\n",
            "['Pisang', 'Nanas', 'Melon', 'Durian']\n"
          ]
        }
      ]
    },
    {
      "cell_type": "markdown",
      "source": [
        "\n",
        "\n",
        "> **Mengubah data di dalam list**\n",
        "\n",
        "Pada awal pembahasan, dikatakan bahwa list adalah tipe data yang bersifat changable alias bisa diubah.\n",
        "\n",
        "Bagaimana cara mengubah data di dalam list?\n",
        "\n",
        "Caranya mudah, seperti mengubah nilai variabel pada umumnya. Perhatikan contoh berikut:\n",
        "\n"
      ],
      "metadata": {
        "id": "JV1rZ0PJtZp5"
      }
    },
    {
      "cell_type": "code",
      "source": [
        "list_buah = ['Pisang', 'Nanas', 'Melon', 'Durian']\n",
        "\n",
        "print(list_buah)\n",
        "\n",
        "# ubah data pertama\n",
        "list_buah[0] = 'Jeruk'\n",
        "\n",
        "print(list_buah)\n",
        "\n",
        "# ubah data terakhir\n",
        "list_buah[-1] = 'Mangga'\n",
        "\n",
        "print(list_buah)"
      ],
      "metadata": {
        "colab": {
          "base_uri": "https://localhost:8080/"
        },
        "id": "ybFyfSt5tmzq",
        "outputId": "41007acc-d5be-4db5-8253-a71cba82a6ab"
      },
      "execution_count": null,
      "outputs": [
        {
          "output_type": "stream",
          "name": "stdout",
          "text": [
            "['Pisang', 'Nanas', 'Melon', 'Durian']\n",
            "['Jeruk', 'Nanas', 'Melon', 'Durian']\n",
            "['Jeruk', 'Nanas', 'Melon', 'Mangga']\n"
          ]
        }
      ]
    },
    {
      "cell_type": "markdown",
      "source": [
        "\n",
        "\n",
        "> **Kita juga bisa mengubah data dalam range**\n",
        "\n",
        "Di dalam python, kita juga bisa mengubah data dalam range tertentu secara sekaligus. Caranya tidak jauh berbeda dengan apa yang telah kita pelajari pada poin slicing data list.\n",
        "\n",
        "Pada kode program di atas, tambahkan lagi kode program berikut:\n",
        "\n"
      ],
      "metadata": {
        "id": "-BC7XQ3Xtvs2"
      }
    },
    {
      "cell_type": "code",
      "source": [
        "# ubah data dalam range\n",
        "list_buah[1:3] = ['Naga', 'Pepaya']\n",
        "\n",
        "print(list_buah)"
      ],
      "metadata": {
        "colab": {
          "base_uri": "https://localhost:8080/"
        },
        "id": "CBZYxNQlt07p",
        "outputId": "2265398d-2f3b-4399-cf53-d9714637afea"
      },
      "execution_count": null,
      "outputs": [
        {
          "output_type": "stream",
          "name": "stdout",
          "text": [
            "['Jeruk', 'Naga', 'Pepaya', 'Mangga']\n"
          ]
        }
      ]
    },
    {
      "cell_type": "markdown",
      "source": [
        "\n",
        "\n",
        "> **Menambah item ke dalam list**\n",
        "\n",
        "Setelah kita mengubah data pada list, sekarang kita akan mencoba untuk menambahkan sebuah data baru ke dalam list.\n",
        "\n",
        "\n",
        "1.   **Menambah data di belakang (append())**\n",
        "\n",
        "Yang pertama, kita bisa menggunakan fungsi append(). Fungsi ini menerima satu parameter, yang mana parameter tersebut akan dimasukkan sebagai nilai baru pada list, dan nilai baru tersebut berada pada akhir item.\n",
        "\n",
        "\n"
      ],
      "metadata": {
        "id": "9xJtubitt8FH"
      }
    },
    {
      "cell_type": "code",
      "source": [
        "list_buah = ['Jeruk', 'Naga', 'Pepaya', 'Mangga']\n",
        "print(list_buah)\n",
        "\n",
        "# tambah data di belakang list\n",
        "list_buah.append('Sirsak')\n",
        "print(list_buah)"
      ],
      "metadata": {
        "colab": {
          "base_uri": "https://localhost:8080/"
        },
        "id": "6G3cpdKMuO50",
        "outputId": "e7073121-1903-48d8-986b-cbd1be57df65"
      },
      "execution_count": null,
      "outputs": [
        {
          "output_type": "stream",
          "name": "stdout",
          "text": [
            "['Jeruk', 'Naga', 'Pepaya', 'Mangga']\n",
            "['Jeruk', 'Naga', 'Pepaya', 'Mangga', 'Sirsak']\n"
          ]
        }
      ]
    },
    {
      "cell_type": "markdown",
      "source": [
        "\n",
        "2.   **Menambah data di depan (insert())**\n",
        "\n",
        "Selain fungsi append(), kita juga bisa menambahkan item ke dalam list dengan menggunakan fungsi insert(). Fungsi insert ini menerima dua buah parameter:\n",
        "\n",
        "\n",
        "*   Parameter pertama untuk mendefinisikan posisi indeks dari data yang akan dimasukkan\n",
        "*   Parameter kedua untuk mendefinisikan nilai yang akan dimasukkan ke dalam list\n",
        "\n",
        "Berikut ini contoh untuk memasukkan nilai Jambu ke dalam list_buah pada indeks 0.\n",
        "\n",
        "\n",
        "\n",
        "\n"
      ],
      "metadata": {
        "id": "Fog4aj-DuWt6"
      }
    },
    {
      "cell_type": "code",
      "source": [
        "# tambah data di awal list\n",
        "list_buah.insert(0, 'Jambu')\n",
        "print(list_buah)"
      ],
      "metadata": {
        "colab": {
          "base_uri": "https://localhost:8080/"
        },
        "id": "Sa5Iswohurdb",
        "outputId": "865bbf95-eaf2-4f27-bd67-6384d6ddc0df"
      },
      "execution_count": null,
      "outputs": [
        {
          "output_type": "stream",
          "name": "stdout",
          "text": [
            "['Jambu', 'Jeruk', 'Naga', 'Pepaya', 'Mangga', 'Sirsak']\n"
          ]
        }
      ]
    },
    {
      "cell_type": "markdown",
      "source": [
        "3. Menambah data di mana pun\n",
        "\n",
        "Tidak hanya terbatas indeks 0, kita juga bisa memasukkan nilai pada indeks berapa pun pada list.\n",
        "\n"
      ],
      "metadata": {
        "id": "-y7_jMc6u9Zt"
      }
    },
    {
      "cell_type": "code",
      "source": [
        "# tambah data di index mana pun dalam list\n",
        "list_buah.insert(2, 'Manggis')\n",
        "print(list_buah)"
      ],
      "metadata": {
        "colab": {
          "base_uri": "https://localhost:8080/"
        },
        "id": "OR0m7LLyvFnV",
        "outputId": "38775940-97ed-4d4a-acdf-20c73600084f"
      },
      "execution_count": null,
      "outputs": [
        {
          "output_type": "stream",
          "name": "stdout",
          "text": [
            "['Jambu', 'Jeruk', 'Manggis', 'Naga', 'Pepaya', 'Mangga', 'Sirsak']\n"
          ]
        }
      ]
    },
    {
      "cell_type": "markdown",
      "source": [
        "\n",
        "\n",
        "> **Menghapus item dari list**\n",
        "\n",
        "Untuk menghapus item dari list, kita bisa menggunakan dua buah fungsi; fungsi pop() dan fungsi remove(), kita juga bisa menggunakan statement del.\n",
        "\n",
        "\n",
        "\n",
        "1.   **Menghapus item dengan fungsi pop()**\n",
        "\n",
        "Fungsi pop() akan mengambil item terakhir dari sebuah list, lalu menghapusnya. Karena ia juga “mengambil”, maka kita bisa menyimpan hasil kembalian dari fungsi pop() ke dalam sebuah variabel.\n",
        "\n",
        "Perhatikan contoh berikut:\n",
        "\n",
        "\n",
        "\n"
      ],
      "metadata": {
        "id": "yu7uqHBMvT_J"
      }
    },
    {
      "cell_type": "code",
      "source": [
        "list_angka = [1, 2, 3, 4, 5]\n",
        "print(list_angka)\n",
        "\n",
        "# hapus satu angka di belakang\n",
        "angka_yang_terhapus = list_angka.pop()\n",
        "\n",
        "print('angka yang terhapus:', angka_yang_terhapus)\n",
        "print(list_angka)"
      ],
      "metadata": {
        "colab": {
          "base_uri": "https://localhost:8080/"
        },
        "id": "q_kbYq_-wM0h",
        "outputId": "85670b48-0eaf-4576-945f-7492813a6ae0"
      },
      "execution_count": null,
      "outputs": [
        {
          "output_type": "stream",
          "name": "stdout",
          "text": [
            "[1, 2, 3, 4, 5]\n",
            "angka yang terhapus: 5\n",
            "[1, 2, 3, 4]\n"
          ]
        }
      ]
    },
    {
      "cell_type": "markdown",
      "source": [
        "2. **Menghapus dengan fungsi remove()**\n",
        "\n",
        "Selanjutnya adalah fungsi remove(). Fungsi ini akan menghapus data yang memiliki nilai yang sama dengan parameter yang dimasukkan.\n",
        "\n",
        "Perhatikan contoh berikut:"
      ],
      "metadata": {
        "id": "taPAtmgQwQ--"
      }
    },
    {
      "cell_type": "code",
      "source": [
        "list_buah = ['Mangga', 'Jambu', 'Jeruk', 'Jambu']\n",
        "print(list_buah)\n",
        "\n",
        "# hapus item pertama dengan nilai 'Jambu'\n",
        "list_buah.remove('Jambu')\n",
        "\n",
        "print(list_buah)"
      ],
      "metadata": {
        "id": "JQ5LT4h4wb41",
        "outputId": "2eca7594-d495-4c67-bd8c-cd1bf3a584e6",
        "colab": {
          "base_uri": "https://localhost:8080/"
        }
      },
      "execution_count": null,
      "outputs": [
        {
          "output_type": "stream",
          "name": "stdout",
          "text": [
            "['Mangga', 'Jambu', 'Jeruk', 'Jambu']\n",
            "['Mangga', 'Jeruk', 'Jambu']\n"
          ]
        }
      ]
    },
    {
      "cell_type": "markdown",
      "source": [
        "3. **Menghapus dengan statement del**\n",
        "\n",
        "Selanjutnya, kita juga bisa menghapus item pada list dengan menggunakan statement del. Dengan statement ini, kita bisa menghapus indeks berapa pun dari item list.\n",
        "\n",
        "Perhatikan contoh berikut:"
      ],
      "metadata": {
        "id": "YMXEDmAPweQB"
      }
    },
    {
      "cell_type": "code",
      "source": [
        "print('\\n' * 2)\n",
        "\n",
        "list_buah = ['Mangga', 'Jambu', 'Jeruk', 'Jambu']\n",
        "print(list_buah)\n",
        "\n",
        "del list_buah[1]\n",
        "print(list_buah)\n",
        "\n",
        "del list_buah[0:2]\n",
        "print(list_buah)"
      ],
      "metadata": {
        "colab": {
          "base_uri": "https://localhost:8080/"
        },
        "id": "3w7M70nExRmy",
        "outputId": "fcf1619e-565c-47da-831a-61d2d2e8c152"
      },
      "execution_count": null,
      "outputs": [
        {
          "output_type": "stream",
          "name": "stdout",
          "text": [
            "\n",
            "\n",
            "\n",
            "['Mangga', 'Jambu', 'Jeruk', 'Jambu']\n",
            "['Mangga', 'Jeruk', 'Jambu']\n",
            "['Jambu']\n"
          ]
        }
      ]
    },
    {
      "cell_type": "markdown",
      "source": [
        "\n",
        "\n",
        "> **Menggabungkan dua buah list atau lebih**\n",
        "\n",
        "Berikutnya hal umum yang biasa kita lakukan dengan list adalah: menggabungkan dua buah list (atau lebih) menjadi satu kesatuan.\n",
        "\n",
        "Bisa jadi kita memiliki 3 list berikut:\n",
        "\n"
      ],
      "metadata": {
        "id": "xO9vEAuXyTrD"
      }
    },
    {
      "cell_type": "code",
      "source": [
        "a = [1, 2, 3]\n",
        "b = ['a']\n",
        "c = [True, 'b', False]"
      ],
      "metadata": {
        "id": "mHZPFOeMyaEv"
      },
      "execution_count": null,
      "outputs": []
    },
    {
      "cell_type": "markdown",
      "source": [
        "Kita bisa dengan mudah menggabungkan ketiganya menggunakan operator +."
      ],
      "metadata": {
        "id": "5B45Dwz7ydCa"
      }
    },
    {
      "cell_type": "code",
      "source": [
        "listBaru = a + b + c\n",
        "\n",
        "print(listBaru)"
      ],
      "metadata": {
        "colab": {
          "base_uri": "https://localhost:8080/"
        },
        "id": "tptEjFXiyesh",
        "outputId": "e3ee24ee-0457-4fb4-cd55-e3998edc6061"
      },
      "execution_count": null,
      "outputs": [
        {
          "output_type": "stream",
          "name": "stdout",
          "text": [
            "[1, 2, 3, 'a', True, 'b', False]\n"
          ]
        }
      ]
    },
    {
      "cell_type": "markdown",
      "source": [
        "\n",
        "\n",
        "> **Mengurutkan data**\n",
        "\n",
        "Terakhir tapi bukan yang paling akhir, kita bisa mengurutkan data list pada python dengan memanggil fungsi <list>.sort().\n",
        "\n",
        "Perhatikan contoh berikut:\n"
      ],
      "metadata": {
        "id": "FW-2CUjfyh9B"
      }
    },
    {
      "cell_type": "code",
      "source": [
        "list_buah = ['Mangga', 'Jeruk', 'Zaitun', 'Apel', 'Durian']\n",
        "print(list_buah)\n",
        "\n",
        "# urutkan secara ascending\n",
        "list_buah.sort()\n",
        "print(list_buah)\n",
        "\n",
        "# membalikkan posisi item list (tidak harus berurut)\n",
        "list_buah.reverse()\n",
        "print(list_buah)"
      ],
      "metadata": {
        "colab": {
          "base_uri": "https://localhost:8080/"
        },
        "id": "M3CUo6Icysgx",
        "outputId": "718503f0-5e0e-453c-8ddf-45a1904e194c"
      },
      "execution_count": null,
      "outputs": [
        {
          "output_type": "stream",
          "name": "stdout",
          "text": [
            "['Mangga', 'Jeruk', 'Zaitun', 'Apel', 'Durian']\n",
            "['Apel', 'Durian', 'Jeruk', 'Mangga', 'Zaitun']\n",
            "['Zaitun', 'Mangga', 'Jeruk', 'Durian', 'Apel']\n"
          ]
        }
      ]
    },
    {
      "cell_type": "markdown",
      "source": [
        "\n",
        "\n",
        "> **Fungsi-fungsi bawaan list**\n",
        "\n",
        "Masih ada banyak sekali fungsi-fungsi list pada python yang belum kita bahas.\n",
        "\n",
        "Secara umum, berikut ini di antara fungsi-fungsi list yang bisa kita manfaatkan untuk menyelesaikan berbagai macam permasalahan.\n",
        "\n",
        "**Keterangan**\n",
        "\n",
        "1. append()\t: Menambahkan elemen baru pada list\n",
        "2. clear()\t: Menghapus semua item pada list\n",
        "3. copy()\t: Mengembalikan hasil duplikat dari list\n",
        "4. count()\t: Mengembalikan jumlah item pada list sesuai yang didefinisikan\n",
        "5. index()\t: Mengembalikan indeks pertama dari item yang sudah didefinisikan\n",
        "6. insert()\t: Menambahakn item baru pada list pada posisi tertentu\n",
        "7. insert()\t: Menambahakn item baru pada list pada posisi tertentu\n",
        "8. remove()\t: Hapus item pada list sesuai dengan nilai yang didefinisikan\n",
        "9. reverse()\t: Membalikkan posisi tiap item pada list\n",
        "10. sort()\t: Mengurutkan list\n",
        "\n",
        "\n"
      ],
      "metadata": {
        "id": "X3Fn0yl4yv4R"
      }
    },
    {
      "cell_type": "code",
      "source": [
        "my_list = [4, 2, 7, 1, 5]\n"
      ],
      "metadata": {
        "id": "BhSMD_hyz0w2"
      },
      "execution_count": null,
      "outputs": []
    },
    {
      "cell_type": "code",
      "source": [
        "my_list.append(6)\n",
        "print(\"Setelah append(6):\", my_list)\n"
      ],
      "metadata": {
        "colab": {
          "base_uri": "https://localhost:8080/"
        },
        "id": "dzwN2OuHaNeW",
        "outputId": "148bcbf8-7fe7-46b4-dcec-c486e2b229bc"
      },
      "execution_count": null,
      "outputs": [
        {
          "output_type": "stream",
          "name": "stdout",
          "text": [
            "Setelah append(6): [4, 2, 7, 1, 5, 6]\n"
          ]
        }
      ]
    },
    {
      "cell_type": "code",
      "source": [
        "my_list.clear()\n",
        "print(\"Setelah clear():\", my_list)"
      ],
      "metadata": {
        "colab": {
          "base_uri": "https://localhost:8080/"
        },
        "id": "NcQykZmaaQ8F",
        "outputId": "42e18dde-7b89-4160-a5ce-e246bf86d025"
      },
      "execution_count": null,
      "outputs": [
        {
          "output_type": "stream",
          "name": "stdout",
          "text": [
            "Setelah clear(): []\n"
          ]
        }
      ]
    },
    {
      "cell_type": "code",
      "source": [
        "my_list = [4, 2, 7, 1, 5]\n"
      ],
      "metadata": {
        "id": "QwmR6nfBaWNb"
      },
      "execution_count": null,
      "outputs": []
    },
    {
      "cell_type": "code",
      "source": [
        "my_copy = my_list.copy()\n",
        "print(\"Hasil copy():\", my_copy)"
      ],
      "metadata": {
        "colab": {
          "base_uri": "https://localhost:8080/"
        },
        "id": "Vx3OKpwJaXxV",
        "outputId": "0ce960b7-823c-4c28-fa0e-e721cb1625a1"
      },
      "execution_count": null,
      "outputs": [
        {
          "output_type": "stream",
          "name": "stdout",
          "text": [
            "Hasil copy(): [4, 2, 7, 1, 5]\n"
          ]
        }
      ]
    },
    {
      "cell_type": "code",
      "source": [
        "count = my_list.count(4)\n",
        "print(\"Jumlah item dengan nilai 4:\", count)"
      ],
      "metadata": {
        "colab": {
          "base_uri": "https://localhost:8080/"
        },
        "id": "I4BPL5ryacW0",
        "outputId": "7e690ece-cc3b-4213-b5ef-fd8ebc61ffc2"
      },
      "execution_count": null,
      "outputs": [
        {
          "output_type": "stream",
          "name": "stdout",
          "text": [
            "Jumlah item dengan nilai 4: 1\n"
          ]
        }
      ]
    },
    {
      "cell_type": "code",
      "source": [
        "index = my_list.index(7)\n",
        "print(\"Indeks pertama dari nilai 7:\", index)\n"
      ],
      "metadata": {
        "colab": {
          "base_uri": "https://localhost:8080/"
        },
        "id": "UelyXB-Zai0L",
        "outputId": "73ca79f9-5128-4c46-9ea9-33cdd8817c27"
      },
      "execution_count": null,
      "outputs": [
        {
          "output_type": "stream",
          "name": "stdout",
          "text": [
            "Indeks pertama dari nilai 7: 2\n"
          ]
        }
      ]
    },
    {
      "cell_type": "code",
      "source": [
        "my_list.insert(2, 6)\n",
        "print(\"Setelah insert(2, 6):\", my_list)\n"
      ],
      "metadata": {
        "colab": {
          "base_uri": "https://localhost:8080/"
        },
        "id": "QXMncD5VapDO",
        "outputId": "61fe508d-651b-4761-dfde-2e6dcc903142"
      },
      "execution_count": null,
      "outputs": [
        {
          "output_type": "stream",
          "name": "stdout",
          "text": [
            "Setelah insert(2, 6): [4, 2, 6, 7, 1, 5]\n"
          ]
        }
      ]
    },
    {
      "cell_type": "code",
      "source": [
        "my_list.remove(4)\n",
        "print(\"Setelah remove(4):\", my_list)\n"
      ],
      "metadata": {
        "colab": {
          "base_uri": "https://localhost:8080/"
        },
        "id": "m_7TQ3XAasgD",
        "outputId": "b5c7b191-1950-40fb-9d36-7045612c006a"
      },
      "execution_count": null,
      "outputs": [
        {
          "output_type": "stream",
          "name": "stdout",
          "text": [
            "Setelah remove(4): [2, 6, 7, 1, 5]\n"
          ]
        }
      ]
    },
    {
      "cell_type": "code",
      "source": [
        "my_list.reverse()\n",
        "print(\"Setelah reverse():\", my_list)"
      ],
      "metadata": {
        "colab": {
          "base_uri": "https://localhost:8080/"
        },
        "id": "3go52mz5awM3",
        "outputId": "2b75d4bf-bb29-434f-d0f7-50d143731beb"
      },
      "execution_count": null,
      "outputs": [
        {
          "output_type": "stream",
          "name": "stdout",
          "text": [
            "Setelah reverse(): [5, 1, 7, 6, 2]\n"
          ]
        }
      ]
    },
    {
      "cell_type": "code",
      "source": [
        "my_list.sort()\n",
        "print(\"Setelah sort():\", my_list)"
      ],
      "metadata": {
        "colab": {
          "base_uri": "https://localhost:8080/"
        },
        "id": "RkiBnEQdazUV",
        "outputId": "b6f50952-c0ea-4860-9051-d7b683ceff9b"
      },
      "execution_count": null,
      "outputs": [
        {
          "output_type": "stream",
          "name": "stdout",
          "text": [
            "Setelah sort(): [1, 2, 5, 6, 7]\n"
          ]
        }
      ]
    },
    {
      "cell_type": "markdown",
      "source": [
        "# Tuple\n",
        "Tuple adalah 1 dari 4 tipe data kolektif pada python yang berguna untuk menyimpan lebih dari satu nilai dalam satu variabel secara sekaligus.\n",
        "\n",
        "Tuple bersifat ordered (terurut) dan juga bersifat unchangable (tidak bisa diubah). Ordered berarti datanya bisa kita akses menggunakan indeks, dan unchangeable berarti datanya tidak akan pernah bisa diubah setelah pertama kali definisikan.\n",
        "\n",
        "Dalam python, tipe data tuple didefinisikan dengan tanda kurung ()."
      ],
      "metadata": {
        "id": "J2OpSV2MlTFY"
      }
    },
    {
      "cell_type": "markdown",
      "source": [
        "\n",
        "*   Bagaimana cara membuat tuple?\n"
      ],
      "metadata": {
        "id": "9j5ZMToVl9cW"
      }
    },
    {
      "cell_type": "code",
      "source": [
        "# cara standar\n",
        "tuple_jenis_kelamin = ('laki-laki', 'perempuan')\n",
        "print(tuple_jenis_kelamin)\n",
        "\n",
        "# tanpa kurung\n",
        "tuple_status_perkawinan = 'menikah', 'lajang'\n",
        "print(tuple_status_perkawinan)\n",
        "\n",
        "# menggunakan fungsi tuple()\n",
        "tuple_lulus = tuple(['lulus', 'tidak lulus'])\n",
        "print(tuple_lulus)"
      ],
      "metadata": {
        "colab": {
          "base_uri": "https://localhost:8080/"
        },
        "id": "HK8TcBqMmMet",
        "outputId": "cd837127-dbfb-4a13-8d5c-39e7b99d4f55"
      },
      "execution_count": null,
      "outputs": [
        {
          "output_type": "stream",
          "name": "stdout",
          "text": [
            "('laki-laki', 'perempuan')\n",
            "('menikah', 'lajang')\n",
            "('lulus', 'tidak lulus')\n"
          ]
        }
      ]
    },
    {
      "cell_type": "markdown",
      "source": [
        "Keterangan\n",
        "1. Cara yang pertama adalah cara standar dan paling dasar\n",
        "2. Cara yang kedua tanpa tanda kurung.\n",
        "3. Cara yang ketiga adalah dengan menggunakan fungsi tuple() dan melemparkan list sebagai parameternya.\n",
        "\n",
        "\n"
      ],
      "metadata": {
        "id": "LWfpZ15kmj9U"
      }
    },
    {
      "cell_type": "markdown",
      "source": [
        "Beberapa method dalam tipe data tuple :\n",
        "\n",
        "> **Tuple kosong**\n",
        "\n",
        "Untuk membuat tuple kosong, kita cukup dengan menuliskan dua tanda kurung seperti berikut:"
      ],
      "metadata": {
        "id": "FBsbZMSpnHbo"
      }
    },
    {
      "cell_type": "code",
      "source": [
        "tuple_kosong = ()\n",
        "print(tuple_kosong)"
      ],
      "metadata": {
        "colab": {
          "base_uri": "https://localhost:8080/"
        },
        "id": "z5E73OY-nd6a",
        "outputId": "5c34a47d-afcf-4910-ea33-3f2982ee01d3"
      },
      "execution_count": null,
      "outputs": [
        {
          "output_type": "stream",
          "name": "stdout",
          "text": [
            "()\n"
          ]
        }
      ]
    },
    {
      "cell_type": "markdown",
      "source": [
        "\n",
        "\n",
        "> **Tuple yang hanya berisi satu item**\n",
        "\n",
        "Untuk mendefinisikan tuple yang hanya berisi satu item, kita tetap diharuskan menulis tanda koma."
      ],
      "metadata": {
        "id": "zxONMuOrnvdW"
      }
    },
    {
      "cell_type": "code",
      "source": [
        "tuple_tunggal = (10,)\n",
        "print(tuple_tunggal)"
      ],
      "metadata": {
        "colab": {
          "base_uri": "https://localhost:8080/"
        },
        "id": "2LZqr3Htn2Ne",
        "outputId": "40f4d1f0-f9a5-48fb-bc95-45dc4273da49"
      },
      "execution_count": null,
      "outputs": [
        {
          "output_type": "stream",
          "name": "stdout",
          "text": [
            "(10,)\n"
          ]
        }
      ]
    },
    {
      "cell_type": "markdown",
      "source": [
        "Kalau tidak, maka python akan menggap tanda kurungnya tidak ada, seperti contoh berikut:"
      ],
      "metadata": {
        "id": "uZmV4w9GoC2M"
      }
    },
    {
      "cell_type": "code",
      "source": [
        "print(type((10))) # yang ini dianggap integer biasa\n",
        "print(type((10,))) # yang ini dianggap tuple"
      ],
      "metadata": {
        "colab": {
          "base_uri": "https://localhost:8080/"
        },
        "id": "ahBCKPN5oKdY",
        "outputId": "dffdda13-fd97-4ac1-9c52-c2264eec7b00"
      },
      "execution_count": null,
      "outputs": [
        {
          "output_type": "stream",
          "name": "stdout",
          "text": [
            "<class 'int'>\n",
            "<class 'tuple'>\n"
          ]
        }
      ]
    },
    {
      "cell_type": "markdown",
      "source": [
        "\n",
        "\n",
        "> **Cara mengakses nilai tuple**\n",
        "\n",
        "Mengakses data pada tuple tidak jauh berbeda dengan cara mengakses data pada list, bahkan bisa kita bilang sama persis dalam keumumannya.\n",
        "\n",
        "Kita bisa mengakses nilai pada tuple dengan langsung mendefinisikan indeks-nya seperti berikut:\n",
        "\n"
      ],
      "metadata": {
        "id": "rGYH6riXoYVX"
      }
    },
    {
      "cell_type": "code",
      "source": [
        "# cara standar\n",
        "tuple_jenis_kelamin = ('laki-laki', 'perempuan')\n",
        "\n",
        "print(tuple_jenis_kelamin[1]) # indeks satu\n",
        "print(tuple_jenis_kelamin[0]) # indeks nol"
      ],
      "metadata": {
        "colab": {
          "base_uri": "https://localhost:8080/"
        },
        "id": "-UlbXFCEogAr",
        "outputId": "7605868b-cb65-4f78-e077-8b219575c23e"
      },
      "execution_count": null,
      "outputs": [
        {
          "output_type": "stream",
          "name": "stdout",
          "text": [
            "perempuan\n",
            "laki-laki\n"
          ]
        }
      ]
    },
    {
      "cell_type": "markdown",
      "source": [
        "Kita juga bisa mengakses nilai pada tuple dengan negatif indeks:"
      ],
      "metadata": {
        "id": "DOmHicreolqv"
      }
    },
    {
      "cell_type": "code",
      "source": [
        "print(tuple_jenis_kelamin[-2])\n",
        "print(tuple_jenis_kelamin[-1])"
      ],
      "metadata": {
        "colab": {
          "base_uri": "https://localhost:8080/"
        },
        "id": "_gfQ3iebooUT",
        "outputId": "4f3b674b-0b1e-4c49-a1ce-d4c9093d6b60"
      },
      "execution_count": null,
      "outputs": [
        {
          "output_type": "stream",
          "name": "stdout",
          "text": [
            "laki-laki\n",
            "perempuan\n"
          ]
        }
      ]
    },
    {
      "cell_type": "markdown",
      "source": [
        "\n",
        "\n",
        "> **Slicing tuple**\n",
        "\n",
        "Slicing adalah teknik memotong nilai dari sebuah tuple. Sintaksnya sama saja dengan teknis slicing di list. Tidak berbeda.\n",
        "\n",
        "Untuk melakukan slicing, kita perlu mendefinisikan range indeks dengan pemisah tanda titik dua (:).\n",
        "\n",
        "Perhatikan kode berikut:\n"
      ],
      "metadata": {
        "id": "vjbnmaJUoupT"
      }
    },
    {
      "cell_type": "code",
      "source": [
        "tuple_buah = ('Pisang', 'Nanas', 'Melon', 'Durian')\n",
        "\n",
        "print(tuple_buah[0:1])\n",
        "print(tuple_buah[0:2])\n",
        "print(tuple_buah[1:3])\n",
        "print(tuple_buah[0:-1])\n",
        "print(tuple_buah[-1:-3])\n",
        "print(tuple_buah[-1:3])\n",
        "print(tuple_buah[-3:-1])"
      ],
      "metadata": {
        "colab": {
          "base_uri": "https://localhost:8080/"
        },
        "id": "xd-ZQDybo0ms",
        "outputId": "66794afd-86c5-48f2-fd5c-36eb653b91ed"
      },
      "execution_count": null,
      "outputs": [
        {
          "output_type": "stream",
          "name": "stdout",
          "text": [
            "('Pisang',)\n",
            "('Pisang', 'Nanas')\n",
            "('Nanas', 'Melon')\n",
            "('Pisang', 'Nanas', 'Melon')\n",
            "()\n",
            "()\n",
            "('Nanas', 'Melon')\n"
          ]
        }
      ]
    },
    {
      "cell_type": "markdown",
      "source": [
        "\n",
        "\n",
        "> **Slicing tanpa batas**\n",
        "\n",
        "Slicing pada tuple juga bisa dilakukan tanpa harus mendefinisikan batas sebelah kanan mau pun sebelah kiri. Sebagaimana contoh berikut:\n",
        "\n"
      ],
      "metadata": {
        "id": "4pURkkt1pDzv"
      }
    },
    {
      "cell_type": "code",
      "source": [
        "tuple_buah = ('Pisang', 'Nanas', 'Melon', 'Durian')\n",
        "\n",
        "print(tuple_buah[0:])\n",
        "print(tuple_buah[1:])\n",
        "print(tuple_buah[2:])\n",
        "print(tuple_buah[3:])\n",
        "print(tuple_buah[:0])\n",
        "print(tuple_buah[:1])\n",
        "print(tuple_buah[:2])\n",
        "print(tuple_buah[:3])\n",
        "print(tuple_buah[:4])"
      ],
      "metadata": {
        "colab": {
          "base_uri": "https://localhost:8080/"
        },
        "id": "sOANDcjZpIOX",
        "outputId": "badab055-eab3-4eda-cc82-1b5393e642a4"
      },
      "execution_count": null,
      "outputs": [
        {
          "output_type": "stream",
          "name": "stdout",
          "text": [
            "('Pisang', 'Nanas', 'Melon', 'Durian')\n",
            "('Nanas', 'Melon', 'Durian')\n",
            "('Melon', 'Durian')\n",
            "('Durian',)\n",
            "()\n",
            "('Pisang',)\n",
            "('Pisang', 'Nanas')\n",
            "('Pisang', 'Nanas', 'Melon')\n",
            "('Pisang', 'Nanas', 'Melon', 'Durian')\n"
          ]
        }
      ]
    },
    {
      "cell_type": "markdown",
      "source": [
        "\n",
        "\n",
        "> **Mengubah data pada tuple**\n",
        "\n",
        "Kita telah mempelajari pada pertemuan sebelumnya bahwa kita bisa mengubah data pada list. Akan tetapi, berbeda dengan Tuple. Kita tidak bisa mengubah data pada tuple. Dan jika kita kekeuh berusaha mengubah data tertentu dari tuple, kita hanya akan mendapatkan error.\n",
        "\n",
        "Perhatikan contoh berikut:\n",
        "\n"
      ],
      "metadata": {
        "id": "XoWZ578MpM2c"
      }
    },
    {
      "cell_type": "code",
      "source": [
        "# mencoba edit data list\n",
        "list_siswa = ['Andi', 'Budi']\n",
        "list_siswa[0] = 'Ardi'\n",
        "\n",
        "# mencoba edit data tuple\n",
        "tuple_siswa = ('Andi', 'Budi')\n",
        "tuple_siswa[0] = 'Ardi'"
      ],
      "metadata": {
        "colab": {
          "base_uri": "https://localhost:8080/",
          "height": 211
        },
        "id": "czbZQpyQpUaD",
        "outputId": "71a27c0e-d3f4-412f-f660-04daeb140e36"
      },
      "execution_count": null,
      "outputs": [
        {
          "output_type": "error",
          "ename": "TypeError",
          "evalue": "ignored",
          "traceback": [
            "\u001b[0;31m---------------------------------------------------------------------------\u001b[0m",
            "\u001b[0;31mTypeError\u001b[0m                                 Traceback (most recent call last)",
            "\u001b[0;32m<ipython-input-24-a7d5d19adcec>\u001b[0m in \u001b[0;36m<cell line: 7>\u001b[0;34m()\u001b[0m\n\u001b[1;32m      5\u001b[0m \u001b[0;31m# mencoba edit data tuple\u001b[0m\u001b[0;34m\u001b[0m\u001b[0;34m\u001b[0m\u001b[0m\n\u001b[1;32m      6\u001b[0m \u001b[0mtuple_siswa\u001b[0m \u001b[0;34m=\u001b[0m \u001b[0;34m(\u001b[0m\u001b[0;34m'Andi'\u001b[0m\u001b[0;34m,\u001b[0m \u001b[0;34m'Budi'\u001b[0m\u001b[0;34m)\u001b[0m\u001b[0;34m\u001b[0m\u001b[0;34m\u001b[0m\u001b[0m\n\u001b[0;32m----> 7\u001b[0;31m \u001b[0mtuple_siswa\u001b[0m\u001b[0;34m[\u001b[0m\u001b[0;36m0\u001b[0m\u001b[0;34m]\u001b[0m \u001b[0;34m=\u001b[0m \u001b[0;34m'Ardi'\u001b[0m\u001b[0;34m\u001b[0m\u001b[0;34m\u001b[0m\u001b[0m\n\u001b[0m",
            "\u001b[0;31mTypeError\u001b[0m: 'tuple' object does not support item assignment"
          ]
        }
      ]
    },
    {
      "cell_type": "markdown",
      "source": [
        "Tuple memang difungsikan untuk kasus-kasus tertentu di mana nilai data bersifat tetap, tidak akan berubah selama runtime. Seperti misalnya data jenis kelamin.\n",
        "\n",
        "\n",
        "\n",
        "> **Sequence Unpacking**\n",
        "\n",
        "Fitur selanjutnya dari Tuple adalah: sequence unpacking. Fitur ini berfungsi untuk mengekstrak isi dari tuple ke dalam variabel-variabel tunggal secara berurutan. Kita hanya perlu menggunakan operator assignment standar (simbol sama dengan =) dan mendefinisikan nama variabel dengan koma.\n",
        "\n",
        "Contohnya adalah seperti ini:\n",
        "\n",
        "\n"
      ],
      "metadata": {
        "id": "0Kp0lWTipeHT"
      }
    },
    {
      "cell_type": "code",
      "source": [
        "siswa = ('Nurul Huda', 'Bangkalan', 24)\n",
        "\n",
        "# ekstrak data atau juga dinamakan sequence unpacking\n",
        "nama, asal, usia = siswa\n",
        "\n",
        "# setiap variabel di atas akan memiliki nilai dari tiap isi tuple\n",
        "# secara berurutan\n",
        "print('Nama:', nama)\n",
        "print('Asal:', asal)\n",
        "print('Usia:', usia)"
      ],
      "metadata": {
        "colab": {
          "base_uri": "https://localhost:8080/"
        },
        "id": "RnzWek1HpoJd",
        "outputId": "93d798d9-aa9b-4ce0-c74d-6df54f1c64c7"
      },
      "execution_count": null,
      "outputs": [
        {
          "output_type": "stream",
          "name": "stdout",
          "text": [
            "Nama: Nurul Huda\n",
            "Asal: Bangkalan\n",
            "Usia: 24\n"
          ]
        }
      ]
    },
    {
      "cell_type": "markdown",
      "source": [
        "**Penjelasan**\n",
        "Jika kita perhatikan kode program dan output di atas, kita bisa simpulkan bahwa:\n",
        "\n",
        "Variabel nama memiliki nilai dari siswa[0]\n",
        "Variabel asal memiliki nilai dari siswa[1]\n",
        "Variabel usia memiliki nilai dari siswa[2]\n",
        "\n",
        "\n",
        "\n",
        "> **Menggabungkan dua buah tuple atau lebih**\n",
        "\n",
        "Hal lain yang bisa kita lakukan dengan tuple adalah: menggabungkan beberapa tuple menjadi satu tuple baru.\n",
        "\n",
        "Kita bisa melakukan hal tersebut menggunakan operator penjumlahan + seperti contoh berikut:\n",
        "\n"
      ],
      "metadata": {
        "id": "kMtG952epuTo"
      }
    },
    {
      "cell_type": "code",
      "source": [
        "a = (1, 2, 3)\n",
        "b = (50, 60, 70)\n",
        "c = a + b\n",
        "c"
      ],
      "metadata": {
        "colab": {
          "base_uri": "https://localhost:8080/"
        },
        "id": "XoHLTeRlp82z",
        "outputId": "4d74e854-ec79-4148-cc08-4a681f93ca63"
      },
      "execution_count": null,
      "outputs": [
        {
          "output_type": "execute_result",
          "data": {
            "text/plain": [
              "(1, 2, 3, 50, 60, 70)"
            ]
          },
          "metadata": {},
          "execution_count": 26
        }
      ]
    },
    {
      "cell_type": "markdown",
      "source": [
        "\n",
        "\n",
        "> **Fungsi-fungsi bawaan tuple**\n",
        "\n",
        "Sama seperti list, tuple juga memiliki fungsi-fungsi bawaan yang bisa kita gunakan seperti berikut:\n",
        "\n",
        "**Keterangan :**\n",
        "\n",
        "\n",
        "1.   len() : Menghitung jumlah item pada tuple\n",
        "2.   max() : Mencari nilai paling besar dari sebuah tuple\n",
        "3. min() : Mencari nilai paling kecil dari sebuah tuple\n",
        "\n",
        "Contoh penggunaan:\n",
        "\n"
      ],
      "metadata": {
        "id": "9IMIxFTYqR4Q"
      }
    },
    {
      "cell_type": "code",
      "source": [
        "nilai_semester_1 = (80, 90, 100, 88, 60)"
      ],
      "metadata": {
        "id": "vuUezPsqqp8A"
      },
      "execution_count": null,
      "outputs": []
    },
    {
      "cell_type": "code",
      "source": [
        "max(nilai_semester_1)"
      ],
      "metadata": {
        "colab": {
          "base_uri": "https://localhost:8080/"
        },
        "id": "tYo_UsjKq6Ui",
        "outputId": "67c2b5ef-beb3-4a91-ecf7-39668b202339"
      },
      "execution_count": null,
      "outputs": [
        {
          "output_type": "execute_result",
          "data": {
            "text/plain": [
              "100"
            ]
          },
          "metadata": {},
          "execution_count": 29
        }
      ]
    },
    {
      "cell_type": "code",
      "source": [
        "min(nilai_semester_1)"
      ],
      "metadata": {
        "colab": {
          "base_uri": "https://localhost:8080/"
        },
        "id": "npVPrS4Oq8ss",
        "outputId": "16572e7d-7dba-4a62-ba44-29ff8db6ce82"
      },
      "execution_count": null,
      "outputs": [
        {
          "output_type": "execute_result",
          "data": {
            "text/plain": [
              "60"
            ]
          },
          "metadata": {},
          "execution_count": 30
        }
      ]
    },
    {
      "cell_type": "code",
      "source": [
        "len(nilai_semester_1)"
      ],
      "metadata": {
        "colab": {
          "base_uri": "https://localhost:8080/"
        },
        "id": "DgrPhbdYq_oQ",
        "outputId": "cd1160e7-fcd0-4a69-ec47-9df441b9d773"
      },
      "execution_count": null,
      "outputs": [
        {
          "output_type": "execute_result",
          "data": {
            "text/plain": [
              "5"
            ]
          },
          "metadata": {},
          "execution_count": 31
        }
      ]
    },
    {
      "cell_type": "markdown",
      "source": [
        "# DICT\n"
      ],
      "metadata": {
        "id": "8j048pw22xOt"
      }
    },
    {
      "cell_type": "markdown",
      "source": [
        "Dictionary seperti buku alamat, dengan buku alamat kita bisa mencari alamat atau detail\n",
        "kontak hanya menggunakan nama orang yang kita cari. Kita mengasosiasikan key\n",
        "(nama) dengan value (detail). Catatan: key harus bersifat unik, kita tidak bisa\n",
        "menemukan informasi yang tepat jika ada dua orang yang mempunyai nama yang sama\n",
        "dalam buku alamat kita bukan. Untuk key/kunci, kita hanya bisa menggunakan objek\n",
        "immutable (seperti string). Sedangkan untuk value dalam dictionary, kita bisa\n",
        "menggunakan objek mutable maupun immutable seperti list, angka, tuple, maupun string. Dictionary ditulis dengan kurung kurawal, dan memiliki kunci dan nilai."
      ],
      "metadata": {
        "id": "7uLZpk__219M"
      }
    },
    {
      "cell_type": "code",
      "source": [
        "thisdict = {\n",
        "\"brand\": \"Ford\",\n",
        "\"model\": \"Mustang\",\n",
        "\"year\": 1964\n",
        "}\n",
        "print(thisdict)"
      ],
      "metadata": {
        "colab": {
          "base_uri": "https://localhost:8080/"
        },
        "id": "u1Igi4qtLnGu",
        "outputId": "ef3325e9-7a1d-4a0f-9c94-f6eab1492978"
      },
      "execution_count": null,
      "outputs": [
        {
          "output_type": "stream",
          "name": "stdout",
          "text": [
            "{'brand': 'Ford', 'model': 'Mustang', 'year': 1964}\n"
          ]
        }
      ]
    },
    {
      "cell_type": "markdown",
      "source": [
        "\n",
        "\n",
        "> **type()**\n",
        "\n",
        "  Dari perspektif python, dictionary didefinisikan sebagai objek dengan tipe data 'dict'.\n",
        "\n"
      ],
      "metadata": {
        "id": "tgut5el1L5A2"
      }
    },
    {
      "cell_type": "code",
      "source": [
        "print(type(thisdict))"
      ],
      "metadata": {
        "colab": {
          "base_uri": "https://localhost:8080/"
        },
        "id": "3inpuTCmMMGT",
        "outputId": "da303fb3-2d57-4281-a270-d028b60644b9"
      },
      "execution_count": null,
      "outputs": [
        {
          "output_type": "stream",
          "name": "stdout",
          "text": [
            "<class 'dict'>\n"
          ]
        }
      ]
    },
    {
      "cell_type": "markdown",
      "source": [
        "Dictionary dapat mengakses item dengan mengacu pada nama key, di dalam\n",
        "tanda kurung siku."
      ],
      "metadata": {
        "id": "YW38hEvGMaZn"
      }
    },
    {
      "cell_type": "code",
      "source": [
        "x = thisdict.get(\"model\")\n",
        "print(x)"
      ],
      "metadata": {
        "colab": {
          "base_uri": "https://localhost:8080/"
        },
        "id": "fGG1mKvrMjiM",
        "outputId": "b30141ea-0150-4417-9e5c-e2dda480492a"
      },
      "execution_count": null,
      "outputs": [
        {
          "output_type": "stream",
          "name": "stdout",
          "text": [
            "Mustang\n"
          ]
        }
      ]
    },
    {
      "cell_type": "markdown",
      "source": [
        "\n",
        "\n",
        "> **values()**\n",
        "\n",
        "mengembalikan list semua nilai dalam dictionary.\n",
        "\n"
      ],
      "metadata": {
        "id": "sCJLEQIuMs0m"
      }
    },
    {
      "cell_type": "code",
      "source": [
        "car = {\n",
        "\"brand\": \"Ford\",\n",
        "\"model\": \"Mustang\",\n",
        "\"year\": 1964\n",
        "}\n",
        "x = car.values()\n",
        "print(x) #before the change\n",
        "car[\"year\"] = 2020\n",
        "print(x) #after the change"
      ],
      "metadata": {
        "colab": {
          "base_uri": "https://localhost:8080/"
        },
        "id": "ub046AHSNjD2",
        "outputId": "b70c3f0d-2f8d-4b93-c2dc-85033f08f34a"
      },
      "execution_count": null,
      "outputs": [
        {
          "output_type": "stream",
          "name": "stdout",
          "text": [
            "dict_values(['Ford', 'Mustang', 1964])\n",
            "dict_values(['Ford', 'Mustang', 2020])\n"
          ]
        }
      ]
    },
    {
      "cell_type": "markdown",
      "source": [
        "\n",
        "\n",
        "> **Update Dictionary**\n",
        "\n",
        "update() akan memperbarui dictionary dengan item dari argumen yang\n",
        "diberikan. Argumen harus berupa dictionary, atau objek yang dapat diubah dengan\n",
        "pasangan kunci:nilai."
      ],
      "metadata": {
        "id": "glbq_hzYOOYv"
      }
    },
    {
      "cell_type": "code",
      "source": [
        "# Memperbarui nilai kunci \"year\"\n",
        "thisdict.update({\"year\": 2020})\n",
        "\n",
        "# Mencetak seluruh isi kamus\n",
        "print(thisdict)"
      ],
      "metadata": {
        "colab": {
          "base_uri": "https://localhost:8080/"
        },
        "id": "qrr-qzghOv7H",
        "outputId": "2db360d1-700c-4564-d698-4c7d7ae98430"
      },
      "execution_count": null,
      "outputs": [
        {
          "output_type": "stream",
          "name": "stdout",
          "text": [
            "{'brand': 'Ford', 'model': 'Mustang', 'year': 2020}\n"
          ]
        }
      ]
    },
    {
      "cell_type": "markdown",
      "source": [
        "\n",
        "\n",
        "> **Dictionary Bersarang**\n",
        "\n",
        "Dictionary dapat berisi dictionary lagi, ini disebut dictionary bersarang.\n",
        "\n",
        "\n",
        "\n"
      ],
      "metadata": {
        "id": "C0fEbeFbPmEf"
      }
    },
    {
      "cell_type": "code",
      "source": [
        "myfamily = {\n",
        "  \"child1\" : {\n",
        "    \"name\" : \"Emil\",\n",
        "    \"year\" : 2004\n",
        "},\n",
        "  \"child2\" : {\n",
        "    \"name\" : \"Tobias\",\n",
        "    \"year\" : 2007\n",
        "},\n",
        "  \"child3\" : {\n",
        "    \"name\" : \"Linus\",\n",
        "    \"year\" : 2011\n",
        "}\n",
        "}\n",
        "print(myfamily)"
      ],
      "metadata": {
        "colab": {
          "base_uri": "https://localhost:8080/"
        },
        "id": "G_xXYzzxQbBq",
        "outputId": "5ffad097-53ee-4a03-fc85-bb8b126af08d"
      },
      "execution_count": null,
      "outputs": [
        {
          "output_type": "stream",
          "name": "stdout",
          "text": [
            "{'child1': {'name': 'Emil', 'year': 2004}, 'child2': {'name': 'Tobias', 'year': 2007}, 'child3': {'name': 'Linus', 'year': 2011}}\n"
          ]
        }
      ]
    },
    {
      "cell_type": "markdown",
      "source": [
        "\n",
        "\n",
        "> **Menyalin Dictionary**\n",
        "\n",
        "tidak dapat menyalin dictionary hanya dengan mengetikkan dict2 = dict1, karena\n",
        "dict2 hanya akan menjadi referensi ke dict1, dan perubahan yang dibuat di dict1 akan\n",
        "otomatis juga dibuat di dict2. Ada beberapa cara untuk membuat salinan, salah satu\n",
        "caranya adalah dengan menggunakan metode dictionary bawaan copy().\n",
        "\n",
        "\n",
        "\n"
      ],
      "metadata": {
        "id": "emPQTnCZQtIk"
      }
    },
    {
      "cell_type": "code",
      "source": [
        "mydict = thisdict.copy()\n",
        "print(mydict)"
      ],
      "metadata": {
        "colab": {
          "base_uri": "https://localhost:8080/"
        },
        "id": "szHbBko1RZLu",
        "outputId": "e7c6c6cb-b0ec-4617-fc0f-da46a75ecf20"
      },
      "execution_count": null,
      "outputs": [
        {
          "output_type": "stream",
          "name": "stdout",
          "text": [
            "{'brand': 'Ford', 'model': 'Mustang', 'year': 2020}\n"
          ]
        }
      ]
    },
    {
      "cell_type": "markdown",
      "source": [],
      "metadata": {
        "id": "FKdFUtxXTnZ4"
      }
    },
    {
      "cell_type": "markdown",
      "source": [
        "\n",
        "\n",
        "> **Metode** **Dictionary**\n",
        "\n",
        "1. clear() Menghapus semua elemen dari dictionary\n",
        "\n",
        "2. copy() Mengembalikan salinan dictioanary\n",
        "\n",
        "3. fromkeys() Mengembalikan dictionary dengan kunci dan nilai yang\n",
        "ditentukan\n",
        "\n",
        "4. get() Mengembalikan nilai dari kunci yang ditentukan\n",
        "\n",
        "5. items() Mengembalikan list yang berisi tupel untuk setiap pasangan\n",
        "nilai kunci\n",
        "\n",
        "6. keys() Mengembalikan list yang berisi kunci dictionary.\n",
        "\n",
        "7. pop() Menghapus elemen dengan kunci yang ditentukan.\n",
        "\n",
        "8. popitem() Menghapus pasangan nilai kunci yang terakhir dimasukkan\n",
        "\n",
        "9. setdefault() Mengembalikan nilai dari kunci yang ditentukan. Jika kunci\n",
        "tidak ada: masukkan kunci, dengan nilai yang ditentukan\n",
        "\n",
        "10. update() Memperbarui dictionary dengan pasangan nilai kunci yang\n",
        "ditentukan.\n",
        "\n",
        "111. values() Mengembalikan list semua nilai dalam dictionary.\n"
      ],
      "metadata": {
        "id": "pScib06lRfBM"
      }
    },
    {
      "cell_type": "code",
      "source": [
        "# Membuat dictionary awal\n",
        "my_dict = {\n",
        "    \"brand\": \"Ford\",\n",
        "    \"model\": \"Mustang\",\n",
        "    \"year\": 1964\n",
        "}\n",
        "\n",
        "# 1. clear() - Menghapus semua elemen dari dictionary\n",
        "my_dict.clear()\n",
        "\n",
        "# 2. copy() - Mengembalikan salinan dictionary\n",
        "copy_dict = my_dict.copy()\n",
        "\n",
        "# 3. fromkeys() - Mengembalikan dictionary dengan kunci dan nilai yang ditentukan\n",
        "keys = [\"brand\", \"model\", \"year\"]\n",
        "values = [\"Ford\", \"Mustang\", 1964]\n",
        "new_dict = dict.fromkeys(keys, \"same\")\n",
        "\n",
        "# 4. get() - Mengembalikan nilai dari kunci yang ditentukan\n",
        "model = my_dict.get(\"model\", \"Tidak ditemukan\")\n",
        "\n",
        "# 5. items() - Mengembalikan list yang berisi tupel untuk setiap pasangan nilai kunci\n",
        "item_list = my_dict.items()\n",
        "\n",
        "# 6. keys() - Mengembalikan list yang berisi kunci dictionary\n",
        "key_list = my_dict.keys()\n",
        "\n",
        "# 7. pop() - Menghapus elemen dengan kunci yang ditentukan (dengan pengecekan)\n",
        "if \"model\" in my_dict:\n",
        "    my_dict.pop(\"model\")\n",
        "\n",
        "# 8. popitem() - Menghapus pasangan nilai kunci yang terakhir dimasukkan\n",
        "if my_dict:\n",
        "    last_item = my_dict.popitem()\n",
        "else:\n",
        "    last_item = \"Dictionary sudah kosong\"\n",
        "# 9. setdefault() - Mengembalikan nilai dari kunci yang ditentukan. Jika kunci tidak ada: masukkan kunci, dengan nilai yang ditentukan\n",
        "my_dict.setdefault(\"color\", \"Red\")\n",
        "\n",
        "# 10. update() - Memperbarui dictionary dengan pasangan nilai kunci yang ditentukan\n",
        "my_dict.update({\"year\": 2020, \"engine\": \"V8\"})\n",
        "\n",
        "# 11. values() - Mengembalikan list semua nilai dalam dictionary\n",
        "value_list = my_dict.values()\n",
        "\n",
        "# Mencetak hasil\n",
        "print(\"Clear Dict:\", my_dict)\n",
        "print(\"Copy Dict:\", copy_dict)\n",
        "print(\"Fromkeys Dict:\", new_dict)\n",
        "print(\"Get Model:\", model)\n",
        "print(\"Items List:\", item_list)\n",
        "print(\"Keys List:\", key_list)\n",
        "print(\"Updated Dict:\", my_dict)\n",
        "print(\"Values List:\", value_list)\n",
        "print(\"Popped Item:\", last_item)\n"
      ],
      "metadata": {
        "colab": {
          "base_uri": "https://localhost:8080/"
        },
        "id": "gkm0mtC7SThz",
        "outputId": "8b91911c-0f36-4ae7-eb0c-863d4c029b2c"
      },
      "execution_count": null,
      "outputs": [
        {
          "output_type": "stream",
          "name": "stdout",
          "text": [
            "Clear Dict: {'color': 'Red', 'year': 2020, 'engine': 'V8'}\n",
            "Copy Dict: {}\n",
            "Fromkeys Dict: {'brand': 'same', 'model': 'same', 'year': 'same'}\n",
            "Get Model: Tidak ditemukan\n",
            "Items List: dict_items([('color', 'Red'), ('year', 2020), ('engine', 'V8')])\n",
            "Keys List: dict_keys(['color', 'year', 'engine'])\n",
            "Updated Dict: {'color': 'Red', 'year': 2020, 'engine': 'V8'}\n",
            "Values List: dict_values(['Red', 2020, 'V8'])\n",
            "Popped Item: Dictionary sudah kosong\n"
          ]
        }
      ]
    }
  ]
}